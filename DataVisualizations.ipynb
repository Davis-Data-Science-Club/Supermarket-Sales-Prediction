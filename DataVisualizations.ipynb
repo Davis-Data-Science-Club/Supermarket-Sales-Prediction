{
 "cells": [
  {
   "cell_type": "code",
   "execution_count": null,
   "metadata": {},
   "outputs": [],
   "source": [
    "import pandas as pd\n",
    "import numpy as np\n",
    "import plotly.express as px\n",
    "import plotly.figure_factory as ff\n",
    "import plotly.graph_objects as go"
   ]
  },
  {
   "cell_type": "code",
   "execution_count": null,
   "metadata": {},
   "outputs": [],
   "source": [
    "customers=pd.read_csv('customers.csv')\n",
    "orders=pd.read_csv('orders.csv')\n",
    "products=pd.read_csv('products.csv')\n",
    "sales=pd.read_csv('sales.csv')"
   ]
  },
  {
   "cell_type": "code",
   "execution_count": null,
   "metadata": {},
   "outputs": [],
   "source": [
    "#barplot of customer age\n",
    "age_df = px.data.tips()\n",
    "fig = px.histogram(\n",
    "    customers, \n",
    "    x = \"age\",  \n",
    "    color = 'gender', \n",
    "    marginal = 'box', #create box and whisker plot\n",
    "    hover_data = customers.columns #interactive element\n",
    ")\n",
    "\n",
    "fig.update_layout(#reconfigure labels\n",
    "    title = {\n",
    "        'text' : 'Distribution of Customer Age Grouped by Gender',\n",
    "        'y':0.95,\n",
    "        'x':0.45,\n",
    "        'xanchor':'center',\n",
    "        'yanchor':'top'\n",
    "    },\n",
    "    xaxis_title='Customer Age',\n",
    "    yaxis_title='Total Number of Customers',\n",
    "    legend_title= 'Gender',\n",
    "    font=dict(family='monospace', size=15,  color='Black'))\n",
    "\n",
    "fig.show()"
   ]
  },
  {
   "cell_type": "code",
   "execution_count": null,
   "metadata": {},
   "outputs": [],
   "source": [
    "#barplot of order prices over time\n",
    "age_df = px.data.tips()\n",
    "fig = px.histogram(\n",
    "    orders, \n",
    "    x = \"delivery_date\", \n",
    "    y='payment',\n",
    "    hover_data = orders.columns #interactive element\n",
    ")\n",
    "\n",
    "fig.update_layout(#reconfigure labels\n",
    "        title = {\n",
    "            'text' : 'Monthly Order Payment Distribution - 2021',\n",
    "            'y':0.95,\n",
    "            'x':0.45,\n",
    "            'xanchor':'center',\n",
    "            'yanchor':'top'\n",
    "        },\n",
    "        xaxis_title='Month of Payment',\n",
    "        yaxis_title='Payment Total(AUD)',\n",
    "        font=dict(\n",
    "            family='monospace', \n",
    "            size=15, \n",
    "            color='Black'))\n",
    "fig.show()"
   ]
  },
  {
   "cell_type": "code",
   "execution_count": null,
   "metadata": {},
   "outputs": [],
   "source": [
    "#histogram of product type by quantity\n",
    "age_df = px.data.tips()\n",
    "fig = px.histogram(\n",
    "    products, \n",
    "    x = 'product_type',  \n",
    "    y = 'quantity',\n",
    "    color = 'product_name', \n",
    "    hover_data = products.columns #interactive element\n",
    ")\n",
    "\n",
    "fig.update_layout(#reconfigure labels\n",
    "    title = {\n",
    "        'text' : 'Total Number of Products',\n",
    "        'y':0.95,\n",
    "        'x':0.45,\n",
    "        'xanchor':'center',\n",
    "        'yanchor':'top'\n",
    "    },\n",
    "    xaxis_title='Product Type',\n",
    "    yaxis_title='Total Number of Product',\n",
    "    legend_title= 'Size',\n",
    "    font=dict(family='monospace', size=15,  color='Black'))\n",
    "\n",
    "fig.show()"
   ]
  },
  {
   "cell_type": "code",
   "execution_count": null,
   "metadata": {},
   "outputs": [],
   "source": [
    "#histogram of product type by price\n",
    "age_df = px.data.tips()\n",
    "fig = px.histogram(\n",
    "    products, \n",
    "    x = 'product_type',  \n",
    "    y = 'price',\n",
    "    color = 'product_name', \n",
    "    hover_data = products.columns #interactive element\n",
    ")\n",
    "\n",
    "fig.update_layout(#reconfigure labels\n",
    "    title = {\n",
    "        'text' : 'Total Price of Products', #make this title cleaner\n",
    "        'y':0.95,\n",
    "        'x':0.45,\n",
    "        'xanchor':'center',\n",
    "        'yanchor':'top'\n",
    "    },\n",
    "    xaxis_title='Product Type',\n",
    "    yaxis_title='Product Price(AUD)',\n",
    "    legend_title= 'Size',\n",
    "    font=dict(family='monospace', size=15,  color='Black'))\n",
    "\n",
    "fig.show()"
   ]
  }
 ],
 "metadata": {
  "kernelspec": {
   "display_name": "Python 3.9.1 64-bit",
   "language": "python",
   "name": "python3"
  },
  "language_info": {
   "name": "python",
   "version": "3.9.1"
  },
  "orig_nbformat": 4,
  "vscode": {
   "interpreter": {
    "hash": "7a14979e061517ff8db1e3d4e5b2588024b75be1831ccaffba4da2ed3a779201"
   }
  }
 },
 "nbformat": 4,
 "nbformat_minor": 2
}
