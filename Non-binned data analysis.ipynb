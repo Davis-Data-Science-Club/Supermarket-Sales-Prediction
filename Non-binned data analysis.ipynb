{
 "cells": [
  {
   "cell_type": "code",
   "execution_count": 2,
   "id": "5f6f6b17-b087-4a09-8878-1d7e5bb40389",
   "metadata": {},
   "outputs": [],
   "source": [
    "from sklearn.datasets import load_diabetes\n",
    "import numpy as np\n",
    "import pandas as pd\n",
    "import matplotlib.pyplot as plt\n",
    "import seaborn as sns\n"
   ]
  },
  {
   "cell_type": "code",
   "execution_count": 3,
   "id": "49d4cd48-9747-495f-b836-2af3634d3b68",
   "metadata": {},
   "outputs": [],
   "source": [
    "data = pd.read_csv(\"/Users/nirmalkaluvai/Downloads/complete_regression.csv\")"
   ]
  },
  {
   "cell_type": "code",
   "execution_count": 31,
   "id": "ccc79913-439a-4570-b5a7-ef185aee4fe9",
   "metadata": {},
   "outputs": [],
   "source": [
    "df = pd.DataFrame(data)\n",
    "x = df['product_name']\n",
    "y = df['price']"
   ]
  },
  {
   "cell_type": "code",
   "execution_count": 32,
   "id": "2e5de691-70bb-4448-b4e2-cb0fc04570fc",
   "metadata": {},
   "outputs": [
    {
     "data": {
      "text/plain": [
       "<BarContainer object of 5000 artists>"
      ]
     },
     "execution_count": 32,
     "metadata": {},
     "output_type": "execute_result"
    },
    {
     "data": {
      "image/png": "[encoded data removed]",
      "text/plain": [
       "<Figure size 432x288 with 1 Axes>"
      ]
     },
     "metadata": {
      "needs_background": "light"
     },
     "output_type": "display_data"
    }
   ],
   "source": [
    "plt.bar(x, y, color='g')\n",
    "\n"
   ]
  },
  {
   "cell_type": "code",
   "execution_count": 51,
   "id": "df5827a4-398a-4505-b26e-09c2c4b109dd",
   "metadata": {},
   "outputs": [
    {
     "name": "stdout",
     "output_type": "stream",
     "text": [
      "9.735563624147108\n",
      "105.6654\n",
      "94.78119907981639\n"
     ]
    }
   ],
   "source": [
    "print(df['price'].std())\n",
    "print(df['price'].mean())\n",
    "print(df['price'].var())"
   ]
  },
  {
   "cell_type": "code",
   "execution_count": 54,
   "id": "29083dc2-10fc-4586-b551-615919299606",
   "metadata": {},
   "outputs": [
    {
     "name": "stdout",
     "output_type": "stream",
     "text": [
      "11.682522874282812\n",
      "60.0834\n",
      "136.48134070814112\n"
     ]
    }
   ],
   "source": [
    "print(df['quantity_x'].std())\n",
    "print(df['quantity_x'].mean())\n",
    "print(df['quantity_x'].var())"
   ]
  },
  {
   "cell_type": "code",
   "execution_count": 55,
   "id": "a258950b-d063-40c0-8916-e6d3fef2a353",
   "metadata": {},
   "outputs": [
    {
     "name": "stdout",
     "output_type": "stream",
     "text": [
      "9.19500446228347\n",
      "103.5016\n",
      "84.54810706141292\n"
     ]
    }
   ],
   "source": [
    "print(df['price_per_unit'].std())\n",
    "print(df['price_per_unit'].mean())\n",
    "print(df['price_per_unit'].var())"
   ]
  }
 ],
 "metadata": {
  "kernelspec": {
   "display_name": "Python 3 (ipykernel)",
   "language": "python",
   "name": "python3"
  },
  "language_info": {
   "codemirror_mode": {
    "name": "ipython",
    "version": 3
   },
   "file_extension": ".py",
   "mimetype": "text/x-python",
   "name": "python",
   "nbconvert_exporter": "python",
   "pygments_lexer": "ipython3",
   "version": "3.9.7"
  }
 },
 "nbformat": 4,
 "nbformat_minor": 5
}
