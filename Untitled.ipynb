{
 "cells": [
  {
   "cell_type": "markdown",
   "id": "d21863d0",
   "metadata": {},
   "source": [
    "## Linear Regression Analysis"
   ]
  },
  {
   "cell_type": "markdown",
   "id": "0f69a98d",
   "metadata": {},
   "source": [
    "To predict the price depending on the description of the clothing, we used the supervised learning\n",
    "method of Linear Regression. We use descriptions as our predictor variables, and price as the response. "
   ]
  },
  {
   "cell_type": "code",
   "execution_count": 1,
   "id": "dcfe150c",
   "metadata": {},
   "outputs": [],
   "source": [
    "import pandas as pd\n",
    "import numpy as np\n",
    "import seaborn as sns\n",
    "import matplotlib.pyplot as plt\n",
    "products = pd.read_csv('C:/Users/auror/Downloads/products.csv')"
   ]
  },
  {
   "cell_type": "code",
   "execution_count": 2,
   "id": "23add5ba",
   "metadata": {},
   "outputs": [],
   "source": [
    "X = products[['product_type','product_name','size','colour']]\n",
    "Y = products['price']\n",
    "X = pd.get_dummies(data=X, drop_first=True)"
   ]
  },
  {
   "cell_type": "code",
   "execution_count": 3,
   "id": "ebbd47d4",
   "metadata": {},
   "outputs": [
    {
     "data": {
      "text/plain": [
       "product_ID       int64\n",
       "product_type    object\n",
       "product_name    object\n",
       "size            object\n",
       "colour          object\n",
       "price            int64\n",
       "quantity         int64\n",
       "description     object\n",
       "dtype: object"
      ]
     },
     "execution_count": 3,
     "metadata": {},
     "output_type": "execute_result"
    }
   ],
   "source": [
    "products.dtypes"
   ]
  },
  {
   "cell_type": "code",
   "execution_count": 4,
   "id": "a5a1ccfd",
   "metadata": {},
   "outputs": [
    {
     "data": {
      "text/html": [
       "<div>\n",
       "<style scoped>\n",
       "    .dataframe tbody tr th:only-of-type {\n",
       "        vertical-align: middle;\n",
       "    }\n",
       "\n",
       "    .dataframe tbody tr th {\n",
       "        vertical-align: top;\n",
       "    }\n",
       "\n",
       "    .dataframe thead th {\n",
       "        text-align: right;\n",
       "    }\n",
       "</style>\n",
       "<table border=\"1\" class=\"dataframe\">\n",
       "  <thead>\n",
       "    <tr style=\"text-align: right;\">\n",
       "      <th></th>\n",
       "      <th>product_ID</th>\n",
       "      <th>price</th>\n",
       "      <th>quantity</th>\n",
       "    </tr>\n",
       "  </thead>\n",
       "  <tbody>\n",
       "    <tr>\n",
       "      <th>product_ID</th>\n",
       "      <td>1.000000</td>\n",
       "      <td>-0.352005</td>\n",
       "      <td>-0.006435</td>\n",
       "    </tr>\n",
       "    <tr>\n",
       "      <th>price</th>\n",
       "      <td>-0.352005</td>\n",
       "      <td>1.000000</td>\n",
       "      <td>0.069239</td>\n",
       "    </tr>\n",
       "    <tr>\n",
       "      <th>quantity</th>\n",
       "      <td>-0.006435</td>\n",
       "      <td>0.069239</td>\n",
       "      <td>1.000000</td>\n",
       "    </tr>\n",
       "  </tbody>\n",
       "</table>\n",
       "</div>"
      ],
      "text/plain": [
       "            product_ID     price  quantity\n",
       "product_ID    1.000000 -0.352005 -0.006435\n",
       "price        -0.352005  1.000000  0.069239\n",
       "quantity     -0.006435  0.069239  1.000000"
      ]
     },
     "execution_count": 4,
     "metadata": {},
     "output_type": "execute_result"
    }
   ],
   "source": [
    "products.corr()"
   ]
  },
  {
   "cell_type": "code",
   "execution_count": 5,
   "id": "4df09433",
   "metadata": {},
   "outputs": [],
   "source": [
    "from sklearn import linear_model\n",
    "from sklearn.model_selection import train_test_split\n",
    "\n",
    "X_train, X_test, Y_train, Y_test = train_test_split(X, Y, test_size = .20, random_state = 0)"
   ]
  },
  {
   "cell_type": "code",
   "execution_count": 6,
   "id": "2a749e30",
   "metadata": {},
   "outputs": [
    {
     "name": "stdout",
     "output_type": "stream",
     "text": [
      "90.00000000000001\n"
     ]
    }
   ],
   "source": [
    "from sklearn.linear_model import LinearRegression\n",
    "model = LinearRegression()\n",
    "model.fit(X_train,Y_train)\n",
    "print(model.intercept_)"
   ]
  },
  {
   "cell_type": "code",
   "execution_count": 7,
   "id": "8f1f7664",
   "metadata": {},
   "outputs": [],
   "source": [
    "coeff_parameter = pd.DataFrame(model.coef_,X.columns,columns=['Coefficient'])\n",
    "predictions = model.predict(X_test)"
   ]
  },
  {
   "cell_type": "code",
   "execution_count": 8,
   "id": "c11583b6",
   "metadata": {},
   "outputs": [
    {
     "name": "stderr",
     "output_type": "stream",
     "text": [
      "C:\\Users\\auror\\anaconda3\\lib\\site-packages\\seaborn\\_decorators.py:36: FutureWarning: Pass the following variables as keyword args: x, y. From version 0.12, the only valid positional argument will be `data`, and passing other arguments without an explicit keyword will result in an error or misinterpretation.\n",
      "  warnings.warn(\n"
     ]
    },
    {
     "data": {
      "text/plain": [
       "<AxesSubplot:xlabel='price'>"
      ]
     },
     "execution_count": 8,
     "metadata": {},
     "output_type": "execute_result"
    },
    {
     "data": {
      "image/png": "[encoded data removed]",
      "text/plain": [
       "<Figure size 432x288 with 1 Axes>"
      ]
     },
     "metadata": {
      "needs_background": "light"
     },
     "output_type": "display_data"
    }
   ],
   "source": [
    "sns.regplot(Y_test,predictions)"
   ]
  },
  {
   "cell_type": "code",
   "execution_count": 9,
   "id": "dfa8d22f",
   "metadata": {},
   "outputs": [
    {
     "name": "stdout",
     "output_type": "stream",
     "text": [
      "                            OLS Regression Results                            \n",
      "==============================================================================\n",
      "Dep. Variable:                  price   R-squared:                       1.000\n",
      "Model:                            OLS   Adj. R-squared:                  1.000\n",
      "Method:                 Least Squares   F-statistic:                 2.167e+29\n",
      "Date:                Tue, 01 Nov 2022   Prob (F-statistic):               0.00\n",
      "Time:                        12:18:46   Log-Likelihood:                 28781.\n",
      "No. Observations:                1008   AIC:                        -5.747e+04\n",
      "Df Residuals:                     962   BIC:                        -5.724e+04\n",
      "Df Model:                          45                                         \n",
      "Covariance Type:            nonrobust                                         \n",
      "==================================================================================================\n",
      "                                     coef    std err          t      P>|t|      [0.025      0.975]\n",
      "--------------------------------------------------------------------------------------------------\n",
      "const                             90.0000   2.17e-14   4.15e+15      0.000      90.000      90.000\n",
      "product_type_Shirt                23.0000   2.62e-14   8.79e+14      0.000      23.000      23.000\n",
      "product_type_Trousers             10.7692   1.82e-14   5.91e+14      0.000      10.769      10.769\n",
      "product_name_Camp Collared        -1.0000   3.73e-14  -2.68e+13      0.000      -1.000      -1.000\n",
      "product_name_Cardigan             28.0000   2.66e-14   1.05e+15      0.000      28.000      28.000\n",
      "product_name_Cargo Pants           5.2308   1.71e-14   3.06e+14      0.000       5.231       5.231\n",
      "product_name_Casual Slim Fit   -2.487e-14   3.79e-14     -0.657      0.512   -9.92e-14    4.94e-14\n",
      "product_name_Chambray             -8.0000    3.7e-14  -2.16e+14      0.000      -8.000      -8.000\n",
      "product_name_Chinos               -0.7692   1.74e-14  -4.43e+13      0.000      -0.769      -0.769\n",
      "product_name_Coach                25.0000   2.64e-14   9.48e+14      0.000      25.000      25.000\n",
      "product_name_Cords                12.2308   1.76e-14   6.93e+14      0.000      12.231      12.231\n",
      "product_name_Cropped              -1.7692   1.85e-14  -9.54e+13      0.000      -1.769      -1.769\n",
      "product_name_Cuban Collar        -20.0000   3.73e-14  -5.36e+14      0.000     -20.000     -20.000\n",
      "product_name_Denim                 2.0000   2.74e-14   7.31e+13      0.000       2.000       2.000\n",
      "product_name_Drawstring            3.2308   1.79e-14    1.8e+14      0.000       3.231       3.231\n",
      "product_name_Dress                 6.0000   3.75e-14    1.6e+14      0.000       6.000       6.000\n",
      "product_name_Flannel             -17.0000   3.68e-14  -4.61e+14      0.000     -17.000     -17.000\n",
      "product_name_Henley              -21.0000    3.7e-14  -5.68e+14      0.000     -21.000     -21.000\n",
      "product_name_High-Waisted         -2.7692   1.79e-14  -1.55e+14      0.000      -2.769      -2.769\n",
      "product_name_Joggers              -6.7692   1.79e-14  -3.77e+14      0.000      -6.769      -6.769\n",
      "product_name_Leather              23.0000   2.64e-14   8.72e+14      0.000      23.000      23.000\n",
      "product_name_Linen                 3.0000   3.72e-14   8.07e+13      0.000       3.000       3.000\n",
      "product_name_Mandarin Collar      -5.0000   3.71e-14  -1.35e+14      0.000      -5.000      -5.000\n",
      "product_name_Oxford Cloth          1.0000   3.77e-14   2.65e+13      0.000       1.000       1.000\n",
      "product_name_Parka                29.0000   2.56e-14   1.13e+15      0.000      29.000      29.000\n",
      "product_name_Peacoat              12.0000   2.71e-14   4.43e+14      0.000      12.000      12.000\n",
      "product_name_Pleated             -10.7692   1.82e-14   -5.9e+14      0.000     -10.769     -10.769\n",
      "product_name_Polo                  4.0000    3.7e-14   1.08e+14      0.000       4.000       4.000\n",
      "product_name_Puffer               20.0000   2.77e-14   7.23e+14      0.000      20.000      20.000\n",
      "product_name_Pullover             24.0000    2.8e-14   8.57e+14      0.000      24.000      24.000\n",
      "product_name_Relaxed Leg          -5.7692   1.82e-14  -3.16e+14      0.000      -5.769      -5.769\n",
      "product_name_Shearling             5.0000    2.6e-14   1.93e+14      0.000       5.000       5.000\n",
      "product_name_Slim-Fit             18.2308   1.89e-14   9.65e+14      0.000      18.231      18.231\n",
      "product_name_Tracksuit Bottoms    -9.7692   1.82e-14  -5.36e+14      0.000      -9.769      -9.769\n",
      "product_name_Trench Coat          22.0000   2.66e-14   8.27e+14      0.000      22.000      22.000\n",
      "product_name_Windbreaker          19.0000   2.64e-14    7.2e+14      0.000      19.000      19.000\n",
      "product_name_Wool                 10.2308   1.93e-14   5.31e+14      0.000      10.231      10.231\n",
      "size_M                          2.132e-14   9.97e-15      2.137      0.033    1.74e-15    4.09e-14\n",
      "size_S                          3.819e-14   9.97e-15      3.829      0.000    1.86e-14    5.78e-14\n",
      "size_XL                         3.197e-14      1e-14      3.196      0.001    1.23e-14    5.16e-14\n",
      "size_XS                          1.51e-14      1e-14      1.510      0.131   -4.52e-15    3.47e-14\n",
      "colour_green                    1.421e-14   1.18e-14      1.207      0.228    -8.9e-15    3.73e-14\n",
      "colour_indigo                   1.954e-14   1.17e-14      1.668      0.096   -3.44e-15    4.25e-14\n",
      "colour_orange                  -5.329e-15   1.18e-14     -0.450      0.653   -2.86e-14    1.79e-14\n",
      "colour_red                      2.043e-14   1.18e-14      1.738      0.083   -2.64e-15    4.35e-14\n",
      "colour_violet                   3.109e-14   1.16e-14      2.686      0.007    8.38e-15    5.38e-14\n",
      "colour_yellow                   4.441e-15   1.21e-14      0.368      0.713   -1.92e-14    2.81e-14\n",
      "==============================================================================\n",
      "Omnibus:                       41.190   Durbin-Watson:                   1.947\n",
      "Prob(Omnibus):                  0.000   Jarque-Bera (JB):               34.924\n",
      "Skew:                          -0.383   Prob(JB):                     2.61e-08\n",
      "Kurtosis:                       2.506   Cond. No.                     2.25e+15\n",
      "==============================================================================\n",
      "\n",
      "Notes:\n",
      "[1] Standard Errors assume that the covariance matrix of the errors is correctly specified.\n",
      "[2] The smallest eigenvalue is 3.11e-28. This might indicate that there are\n",
      "strong multicollinearity problems or that the design matrix is singular.\n"
     ]
    },
    {
     "name": "stderr",
     "output_type": "stream",
     "text": [
      "C:\\Users\\auror\\anaconda3\\lib\\site-packages\\statsmodels\\tsa\\tsatools.py:142: FutureWarning: In a future version of pandas all arguments of concat except for the argument 'objs' will be keyword-only\n",
      "  x = pd.concat(x[::order], 1)\n"
     ]
    }
   ],
   "source": [
    "import statsmodels.api as sm\n",
    "X_train_Sm= sm.add_constant(X_train)\n",
    "X_train_Sm= sm.add_constant(X_train)\n",
    "ls=sm.OLS(Y_train,X_train_Sm).fit()\n",
    "print(ls.summary())"
   ]
  },
  {
   "cell_type": "markdown",
   "id": "b50687b3",
   "metadata": {},
   "source": [
    "The regression results show that we have a strong correlation with an Adj. R-squared of 1.000. If we set our alpha as 0.05, every description is significant except product_name_Casual Slim Fit, size_XS, size_M, colour_green, colour_indigo, colour_orange, colour_red, and colour_yellow. This shows us the color and fit of the product doesn't give us enough information about the price. Size XS and M also doesn't give us enough information about the price. Therefore, when building our price prediction model, we should exclude color, fit, and size as the input variables. Everything else is a valid predictor when predicting the price of the product."
   ]
  },
  {
   "cell_type": "code",
   "execution_count": null,
   "id": "1e0e68b7",
   "metadata": {},
   "outputs": [],
   "source": []
  }
 ],
 "metadata": {
  "kernelspec": {
   "display_name": "Python 3 (ipykernel)",
   "language": "python",
   "name": "python3"
  },
  "language_info": {
   "codemirror_mode": {
    "name": "ipython",
    "version": 3
   },
   "file_extension": ".py",
   "mimetype": "text/x-python",
   "name": "python",
   "nbconvert_exporter": "python",
   "pygments_lexer": "ipython3",
   "version": "3.9.7"
  }
 },
 "nbformat": 4,
 "nbformat_minor": 5
}
