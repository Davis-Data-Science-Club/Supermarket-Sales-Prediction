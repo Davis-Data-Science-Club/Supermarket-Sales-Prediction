{
 "cells": [
  {
   "cell_type": "markdown",
   "metadata": {},
   "source": [
    "# Importing Packages and Data"
   ]
  },
  {
   "cell_type": "code",
   "execution_count": 32,
   "metadata": {},
   "outputs": [],
   "source": [
    "import pandas as pd\n",
    "import numpy as np\n",
    "from sklearn.model_selection import train_test_split\n",
    "\n",
    "# importing data\n",
    "df = pd.read_csv('products.csv')\n",
    "\n",
    "# adding new column for bin category\n",
    "df[\"bin\"] = pd.qcut(df['price'], q=12)\n",
    "\n",
    "# splitting data\n",
    "train, test = train_test_split(df, test_size=0.20)\n",
    "x_train, y_train = train.drop([\"price\", \"bin\", \"description\", \"product_ID\"], axis = 1), train[['bin']]\n",
    "x_test, y_test = test.drop([\"price\", \"bin\", \"description\", \"product_ID\"], axis = 1), test[['bin']]"
   ]
  },
  {
   "cell_type": "markdown",
   "metadata": {},
   "source": [
    "#  Naïve Bayes Classifier"
   ]
  },
  {
   "cell_type": "code",
   "execution_count": 38,
   "metadata": {},
   "outputs": [],
   "source": [
    "from sklearn.naive_bayes import GaussianNB\n",
    "from sklearn.preprocessing import StandardScaler\n",
    "from sklearn.metrics import classification_report\n",
    "\n",
    "# gnb = GaussianNB()\n",
    "# y_pred = gnb.fit(x_train, y_train).predict(x_test)\n",
    "# print(classification_report(y_test, y_pred))\n",
    "# print(classification_report(y_test, NB.predict(scaler.transform(X_test))))"
   ]
  },
  {
   "cell_type": "markdown",
   "metadata": {},
   "source": [
    "# K-Nearest Neighbors Classifier"
   ]
  },
  {
   "cell_type": "code",
   "execution_count": null,
   "metadata": {},
   "outputs": [],
   "source": []
  }
 ],
 "metadata": {
  "kernelspec": {
   "display_name": "Python 3.10.4 64-bit",
   "language": "python",
   "name": "python3"
  },
  "language_info": {
   "codemirror_mode": {
    "name": "ipython",
    "version": 3
   },
   "file_extension": ".py",
   "mimetype": "text/x-python",
   "name": "python",
   "nbconvert_exporter": "python",
   "pygments_lexer": "ipython3",
   "version": "3.10.4"
  },
  "orig_nbformat": 4,
  "vscode": {
   "interpreter": {
    "hash": "9f732043b573ad049ad34b579ce7be9f3622f4b5858cbd353145290a975b6a25"
   }
  }
 },
 "nbformat": 4,
 "nbformat_minor": 2
}
