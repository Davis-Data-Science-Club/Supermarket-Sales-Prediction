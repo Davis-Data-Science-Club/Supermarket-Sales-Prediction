{
 "cells": [
  {
   "cell_type": "code",
   "execution_count": 253,
   "id": "dca6b4cd",
   "metadata": {},
   "outputs": [],
   "source": [
    "import pandas as pd\n",
    "import numpy as np\n",
    "from sklearn import preprocessing\n",
    "from numpy import array\n",
    "from numpy import argmax\n",
    "from sklearn.preprocessing import LabelEncoder\n",
    "from sklearn.preprocessing import OneHotEncoder"
   ]
  },
  {
   "cell_type": "code",
   "execution_count": 254,
   "id": "ed9ef93a",
   "metadata": {},
   "outputs": [],
   "source": [
    "customers=pd.read_csv('/Users/lukebarrett/Desktop/STA/DS Club/supermarket_data/customers.csv')\n",
    "orders=pd.read_csv('/Users/lukebarrett/Desktop/STA/DS Club/supermarket_data/orders.csv')\n",
    "products=pd.read_csv('/Users/lukebarrett/Desktop/STA/DS Club/supermarket_data/products.csv')\n",
    "sales=pd.read_csv('/Users/lukebarrett/Desktop/STA/DS Club/supermarket_data/sales.csv')"
   ]
  },
  {
   "cell_type": "code",
   "execution_count": 255,
   "id": "69e92f1f",
   "metadata": {},
   "outputs": [
    {
     "data": {
      "text/html": [
       "<div>\n",
       "<style scoped>\n",
       "    .dataframe tbody tr th:only-of-type {\n",
       "        vertical-align: middle;\n",
       "    }\n",
       "\n",
       "    .dataframe tbody tr th {\n",
       "        vertical-align: top;\n",
       "    }\n",
       "\n",
       "    .dataframe thead th {\n",
       "        text-align: right;\n",
       "    }\n",
       "</style>\n",
       "<table border=\"1\" class=\"dataframe\">\n",
       "  <thead>\n",
       "    <tr style=\"text-align: right;\">\n",
       "      <th></th>\n",
       "      <th>customer_id</th>\n",
       "      <th>customer_name</th>\n",
       "      <th>gender</th>\n",
       "      <th>age</th>\n",
       "      <th>home_address</th>\n",
       "      <th>zip_code</th>\n",
       "      <th>city</th>\n",
       "      <th>state</th>\n",
       "      <th>country</th>\n",
       "    </tr>\n",
       "  </thead>\n",
       "  <tbody>\n",
       "  </tbody>\n",
       "</table>\n",
       "</div>"
      ],
      "text/plain": [
       "Empty DataFrame\n",
       "Columns: [customer_id, customer_name, gender, age, home_address, zip_code, city, state, country]\n",
       "Index: []"
      ]
     },
     "execution_count": 255,
     "metadata": {},
     "output_type": "execute_result"
    }
   ],
   "source": [
    "#there are no null values in customers data set\n",
    "customers_null = customers[customers.isna().any(axis=1)]\n",
    "customers_null"
   ]
  },
  {
   "cell_type": "code",
   "execution_count": 256,
   "id": "93503da9-734f-4f39-8d23-bdf2bbbac44c",
   "metadata": {},
   "outputs": [
    {
     "data": {
      "text/html": [
       "<div>\n",
       "<style scoped>\n",
       "    .dataframe tbody tr th:only-of-type {\n",
       "        vertical-align: middle;\n",
       "    }\n",
       "\n",
       "    .dataframe tbody tr th {\n",
       "        vertical-align: top;\n",
       "    }\n",
       "\n",
       "    .dataframe thead th {\n",
       "        text-align: right;\n",
       "    }\n",
       "</style>\n",
       "<table border=\"1\" class=\"dataframe\">\n",
       "  <thead>\n",
       "    <tr style=\"text-align: right;\">\n",
       "      <th></th>\n",
       "      <th>sales_id</th>\n",
       "      <th>order_id</th>\n",
       "      <th>product_id</th>\n",
       "      <th>price_per_unit</th>\n",
       "      <th>quantity</th>\n",
       "      <th>total_price</th>\n",
       "    </tr>\n",
       "  </thead>\n",
       "  <tbody>\n",
       "  </tbody>\n",
       "</table>\n",
       "</div>"
      ],
      "text/plain": [
       "Empty DataFrame\n",
       "Columns: [sales_id, order_id, product_id, price_per_unit, quantity, total_price]\n",
       "Index: []"
      ]
     },
     "execution_count": 256,
     "metadata": {},
     "output_type": "execute_result"
    }
   ],
   "source": [
    "#there are no null values in sales data set\n",
    "sales_null = sales[sales.isna().any(axis=1)]\n",
    "sales_null"
   ]
  },
  {
   "cell_type": "code",
   "execution_count": 257,
   "id": "085d6d03-8013-41df-a2c6-7aa9aa966fa8",
   "metadata": {},
   "outputs": [
    {
     "data": {
      "text/html": [
       "<div>\n",
       "<style scoped>\n",
       "    .dataframe tbody tr th:only-of-type {\n",
       "        vertical-align: middle;\n",
       "    }\n",
       "\n",
       "    .dataframe tbody tr th {\n",
       "        vertical-align: top;\n",
       "    }\n",
       "\n",
       "    .dataframe thead th {\n",
       "        text-align: right;\n",
       "    }\n",
       "</style>\n",
       "<table border=\"1\" class=\"dataframe\">\n",
       "  <thead>\n",
       "    <tr style=\"text-align: right;\">\n",
       "      <th></th>\n",
       "      <th>order_id</th>\n",
       "      <th>customer_id</th>\n",
       "      <th>payment</th>\n",
       "      <th>order_date</th>\n",
       "      <th>delivery_date</th>\n",
       "    </tr>\n",
       "  </thead>\n",
       "  <tbody>\n",
       "  </tbody>\n",
       "</table>\n",
       "</div>"
      ],
      "text/plain": [
       "Empty DataFrame\n",
       "Columns: [order_id, customer_id, payment, order_date, delivery_date]\n",
       "Index: []"
      ]
     },
     "execution_count": 257,
     "metadata": {},
     "output_type": "execute_result"
    }
   ],
   "source": [
    "#there are no null values in orders data set\n",
    "orders_null = orders[orders.isna().any(axis=1)]\n",
    "orders_null"
   ]
  },
  {
   "cell_type": "code",
   "execution_count": 258,
   "id": "b6205db4-9a27-452d-b698-31c7cecf2f8b",
   "metadata": {},
   "outputs": [
    {
     "data": {
      "text/html": [
       "<div>\n",
       "<style scoped>\n",
       "    .dataframe tbody tr th:only-of-type {\n",
       "        vertical-align: middle;\n",
       "    }\n",
       "\n",
       "    .dataframe tbody tr th {\n",
       "        vertical-align: top;\n",
       "    }\n",
       "\n",
       "    .dataframe thead th {\n",
       "        text-align: right;\n",
       "    }\n",
       "</style>\n",
       "<table border=\"1\" class=\"dataframe\">\n",
       "  <thead>\n",
       "    <tr style=\"text-align: right;\">\n",
       "      <th></th>\n",
       "      <th>product_ID</th>\n",
       "      <th>product_type</th>\n",
       "      <th>product_name</th>\n",
       "      <th>size</th>\n",
       "      <th>colour</th>\n",
       "      <th>price</th>\n",
       "      <th>quantity</th>\n",
       "      <th>description</th>\n",
       "    </tr>\n",
       "  </thead>\n",
       "  <tbody>\n",
       "  </tbody>\n",
       "</table>\n",
       "</div>"
      ],
      "text/plain": [
       "Empty DataFrame\n",
       "Columns: [product_ID, product_type, product_name, size, colour, price, quantity, description]\n",
       "Index: []"
      ]
     },
     "execution_count": 258,
     "metadata": {},
     "output_type": "execute_result"
    }
   ],
   "source": [
    "#there are no null values in products data set\n",
    "products_null = products[products.isna().any(axis=1)]\n",
    "products_null"
   ]
  },
  {
   "cell_type": "code",
   "execution_count": 259,
   "id": "1d841b73-ccd8-4d10-a94a-a63759368a23",
   "metadata": {},
   "outputs": [],
   "source": [
    "#still need to check for multicolinearity\n",
    "#unique values in colour\n",
    "products['colour'].unique()\n",
    "\n",
    "#integer encoding colour\n",
    "size_array = array(products['colour'])\n",
    "label_encoder = LabelEncoder()\n",
    "size = label_encoder.fit_transform(size_array)\n",
    "\n",
    "#converting integer to onehot\n",
    "onehot_encoder = OneHotEncoder(sparse=False)\n",
    "label_encoded = size.reshape(len(size), 1)\n",
    "onehot_encoded = onehot_encoder.fit_transform(label_encoded)"
   ]
  },
  {
   "cell_type": "code",
   "execution_count": 260,
   "id": "d84b2f18-4d9f-41b7-b892-a72abe0340ac",
   "metadata": {},
   "outputs": [],
   "source": [
    "#adding onehot encoded column colour to products\n",
    "products['onehot_colour'] = onehot_encoded.tolist()"
   ]
  },
  {
   "cell_type": "code",
   "execution_count": 261,
   "id": "c62c5bd2-e94f-445d-83e2-49f56ef3ac0d",
   "metadata": {},
   "outputs": [],
   "source": [
    "#removing original size column\n",
    "products = products.drop(columns = ['colour'])"
   ]
  },
  {
   "cell_type": "code",
   "execution_count": 262,
   "id": "54459132-2972-4eb6-85be-0206f0e4dc2d",
   "metadata": {},
   "outputs": [
    {
     "data": {
      "text/html": [
       "<div>\n",
       "<style scoped>\n",
       "    .dataframe tbody tr th:only-of-type {\n",
       "        vertical-align: middle;\n",
       "    }\n",
       "\n",
       "    .dataframe tbody tr th {\n",
       "        vertical-align: top;\n",
       "    }\n",
       "\n",
       "    .dataframe thead th {\n",
       "        text-align: right;\n",
       "    }\n",
       "</style>\n",
       "<table border=\"1\" class=\"dataframe\">\n",
       "  <thead>\n",
       "    <tr style=\"text-align: right;\">\n",
       "      <th></th>\n",
       "      <th>product_ID</th>\n",
       "      <th>product_type</th>\n",
       "      <th>product_name</th>\n",
       "      <th>size</th>\n",
       "      <th>price</th>\n",
       "      <th>quantity</th>\n",
       "      <th>description</th>\n",
       "      <th>onehot_colour</th>\n",
       "    </tr>\n",
       "  </thead>\n",
       "  <tbody>\n",
       "    <tr>\n",
       "      <th>0</th>\n",
       "      <td>0</td>\n",
       "      <td>Shirt</td>\n",
       "      <td>Oxford Cloth</td>\n",
       "      <td>XS</td>\n",
       "      <td>114</td>\n",
       "      <td>66</td>\n",
       "      <td>A red coloured, XS sized, Oxford Cloth Shirt</td>\n",
       "      <td>[0.0, 0.0, 0.0, 0.0, 1.0, 0.0, 0.0]</td>\n",
       "    </tr>\n",
       "    <tr>\n",
       "      <th>1</th>\n",
       "      <td>1</td>\n",
       "      <td>Shirt</td>\n",
       "      <td>Oxford Cloth</td>\n",
       "      <td>S</td>\n",
       "      <td>114</td>\n",
       "      <td>53</td>\n",
       "      <td>A red coloured, S sized, Oxford Cloth Shirt</td>\n",
       "      <td>[0.0, 0.0, 0.0, 0.0, 1.0, 0.0, 0.0]</td>\n",
       "    </tr>\n",
       "    <tr>\n",
       "      <th>2</th>\n",
       "      <td>2</td>\n",
       "      <td>Shirt</td>\n",
       "      <td>Oxford Cloth</td>\n",
       "      <td>M</td>\n",
       "      <td>114</td>\n",
       "      <td>54</td>\n",
       "      <td>A red coloured, M sized, Oxford Cloth Shirt</td>\n",
       "      <td>[0.0, 0.0, 0.0, 0.0, 1.0, 0.0, 0.0]</td>\n",
       "    </tr>\n",
       "    <tr>\n",
       "      <th>3</th>\n",
       "      <td>3</td>\n",
       "      <td>Shirt</td>\n",
       "      <td>Oxford Cloth</td>\n",
       "      <td>L</td>\n",
       "      <td>114</td>\n",
       "      <td>69</td>\n",
       "      <td>A red coloured, L sized, Oxford Cloth Shirt</td>\n",
       "      <td>[0.0, 0.0, 0.0, 0.0, 1.0, 0.0, 0.0]</td>\n",
       "    </tr>\n",
       "    <tr>\n",
       "      <th>4</th>\n",
       "      <td>4</td>\n",
       "      <td>Shirt</td>\n",
       "      <td>Oxford Cloth</td>\n",
       "      <td>XL</td>\n",
       "      <td>114</td>\n",
       "      <td>47</td>\n",
       "      <td>A red coloured, XL sized, Oxford Cloth Shirt</td>\n",
       "      <td>[0.0, 0.0, 0.0, 0.0, 1.0, 0.0, 0.0]</td>\n",
       "    </tr>\n",
       "  </tbody>\n",
       "</table>\n",
       "</div>"
      ],
      "text/plain": [
       "   product_ID product_type  product_name size  price  quantity  \\\n",
       "0           0        Shirt  Oxford Cloth   XS    114        66   \n",
       "1           1        Shirt  Oxford Cloth    S    114        53   \n",
       "2           2        Shirt  Oxford Cloth    M    114        54   \n",
       "3           3        Shirt  Oxford Cloth    L    114        69   \n",
       "4           4        Shirt  Oxford Cloth   XL    114        47   \n",
       "\n",
       "                                    description  \\\n",
       "0  A red coloured, XS sized, Oxford Cloth Shirt   \n",
       "1   A red coloured, S sized, Oxford Cloth Shirt   \n",
       "2   A red coloured, M sized, Oxford Cloth Shirt   \n",
       "3   A red coloured, L sized, Oxford Cloth Shirt   \n",
       "4  A red coloured, XL sized, Oxford Cloth Shirt   \n",
       "\n",
       "                         onehot_colour  \n",
       "0  [0.0, 0.0, 0.0, 0.0, 1.0, 0.0, 0.0]  \n",
       "1  [0.0, 0.0, 0.0, 0.0, 1.0, 0.0, 0.0]  \n",
       "2  [0.0, 0.0, 0.0, 0.0, 1.0, 0.0, 0.0]  \n",
       "3  [0.0, 0.0, 0.0, 0.0, 1.0, 0.0, 0.0]  \n",
       "4  [0.0, 0.0, 0.0, 0.0, 1.0, 0.0, 0.0]  "
      ]
     },
     "execution_count": 262,
     "metadata": {},
     "output_type": "execute_result"
    }
   ],
   "source": [
    "products.head()"
   ]
  },
  {
   "cell_type": "code",
   "execution_count": 263,
   "id": "480631e0-5ad6-4434-9122-320d2c272946",
   "metadata": {},
   "outputs": [],
   "source": [
    "#still need to check for multicolinearity\n",
    "#unique values in gender\n",
    "customers['gender'].unique()\n",
    "\n",
    "#integer encoding gender\n",
    "size_array = array(customers['gender'])\n",
    "label_encoder = LabelEncoder()\n",
    "size = label_encoder.fit_transform(size_array)\n",
    "\n",
    "#converting integer to onehot\n",
    "onehot_encoder = OneHotEncoder(sparse=False)\n",
    "label_encoded = size.reshape(len(size), 1)\n",
    "onehot_encoded = onehot_encoder.fit_transform(label_encoded)"
   ]
  },
  {
   "cell_type": "code",
   "execution_count": 264,
   "id": "c5fa549e-74e1-49a0-abcb-65e7f588eac4",
   "metadata": {},
   "outputs": [],
   "source": [
    "#adding onehot encoded column gender to customers\n",
    "customers['onehot_gender'] = onehot_encoded.tolist()"
   ]
  },
  {
   "cell_type": "code",
   "execution_count": 265,
   "id": "9ca3a192-3c2d-497f-bcfb-1d2182b48f93",
   "metadata": {},
   "outputs": [],
   "source": [
    "#removing original gender column\n",
    "customers = customers.drop(columns = ['gender'])"
   ]
  },
  {
   "cell_type": "code",
   "execution_count": 266,
   "id": "76af4cad-638b-45e3-a04a-1099535e43bd",
   "metadata": {},
   "outputs": [
    {
     "data": {
      "text/html": [
       "<div>\n",
       "<style scoped>\n",
       "    .dataframe tbody tr th:only-of-type {\n",
       "        vertical-align: middle;\n",
       "    }\n",
       "\n",
       "    .dataframe tbody tr th {\n",
       "        vertical-align: top;\n",
       "    }\n",
       "\n",
       "    .dataframe thead th {\n",
       "        text-align: right;\n",
       "    }\n",
       "</style>\n",
       "<table border=\"1\" class=\"dataframe\">\n",
       "  <thead>\n",
       "    <tr style=\"text-align: right;\">\n",
       "      <th></th>\n",
       "      <th>customer_id</th>\n",
       "      <th>customer_name</th>\n",
       "      <th>age</th>\n",
       "      <th>home_address</th>\n",
       "      <th>zip_code</th>\n",
       "      <th>city</th>\n",
       "      <th>state</th>\n",
       "      <th>country</th>\n",
       "      <th>onehot_gender</th>\n",
       "    </tr>\n",
       "  </thead>\n",
       "  <tbody>\n",
       "    <tr>\n",
       "      <th>0</th>\n",
       "      <td>1</td>\n",
       "      <td>Leanna Busson</td>\n",
       "      <td>30</td>\n",
       "      <td>8606 Victoria TerraceSuite 560</td>\n",
       "      <td>5464</td>\n",
       "      <td>Johnstonhaven</td>\n",
       "      <td>Northern Territory</td>\n",
       "      <td>Australia</td>\n",
       "      <td>[0.0, 0.0, 1.0, 0.0, 0.0, 0.0, 0.0, 0.0]</td>\n",
       "    </tr>\n",
       "    <tr>\n",
       "      <th>1</th>\n",
       "      <td>2</td>\n",
       "      <td>Zabrina Harrowsmith</td>\n",
       "      <td>69</td>\n",
       "      <td>8327 Kirlin SummitApt. 461</td>\n",
       "      <td>8223</td>\n",
       "      <td>New Zacharyfort</td>\n",
       "      <td>South Australia</td>\n",
       "      <td>Australia</td>\n",
       "      <td>[0.0, 0.0, 0.0, 1.0, 0.0, 0.0, 0.0, 0.0]</td>\n",
       "    </tr>\n",
       "    <tr>\n",
       "      <th>2</th>\n",
       "      <td>3</td>\n",
       "      <td>Shina Dullaghan</td>\n",
       "      <td>59</td>\n",
       "      <td>269 Gemma SummitSuite 109</td>\n",
       "      <td>5661</td>\n",
       "      <td>Aliburgh</td>\n",
       "      <td>Australian Capital Territory</td>\n",
       "      <td>Australia</td>\n",
       "      <td>[0.0, 0.0, 0.0, 0.0, 0.0, 0.0, 0.0, 1.0]</td>\n",
       "    </tr>\n",
       "    <tr>\n",
       "      <th>3</th>\n",
       "      <td>4</td>\n",
       "      <td>Hewet McVitie</td>\n",
       "      <td>67</td>\n",
       "      <td>743 Bailey GroveSuite 141</td>\n",
       "      <td>1729</td>\n",
       "      <td>South Justinhaven</td>\n",
       "      <td>Queensland</td>\n",
       "      <td>Australia</td>\n",
       "      <td>[0.0, 1.0, 0.0, 0.0, 0.0, 0.0, 0.0, 0.0]</td>\n",
       "    </tr>\n",
       "    <tr>\n",
       "      <th>4</th>\n",
       "      <td>5</td>\n",
       "      <td>Rubia Ashleigh</td>\n",
       "      <td>30</td>\n",
       "      <td>48 Hyatt ManorSuite 375</td>\n",
       "      <td>4032</td>\n",
       "      <td>Griffithsshire</td>\n",
       "      <td>Queensland</td>\n",
       "      <td>Australia</td>\n",
       "      <td>[0.0, 0.0, 0.0, 0.0, 0.0, 0.0, 0.0, 1.0]</td>\n",
       "    </tr>\n",
       "  </tbody>\n",
       "</table>\n",
       "</div>"
      ],
      "text/plain": [
       "   customer_id        customer_name  age                    home_address  \\\n",
       "0            1        Leanna Busson   30  8606 Victoria TerraceSuite 560   \n",
       "1            2  Zabrina Harrowsmith   69      8327 Kirlin SummitApt. 461   \n",
       "2            3      Shina Dullaghan   59       269 Gemma SummitSuite 109   \n",
       "3            4        Hewet McVitie   67       743 Bailey GroveSuite 141   \n",
       "4            5       Rubia Ashleigh   30         48 Hyatt ManorSuite 375   \n",
       "\n",
       "   zip_code               city                         state    country  \\\n",
       "0      5464      Johnstonhaven            Northern Territory  Australia   \n",
       "1      8223    New Zacharyfort               South Australia  Australia   \n",
       "2      5661           Aliburgh  Australian Capital Territory  Australia   \n",
       "3      1729  South Justinhaven                    Queensland  Australia   \n",
       "4      4032     Griffithsshire                    Queensland  Australia   \n",
       "\n",
       "                              onehot_gender  \n",
       "0  [0.0, 0.0, 1.0, 0.0, 0.0, 0.0, 0.0, 0.0]  \n",
       "1  [0.0, 0.0, 0.0, 1.0, 0.0, 0.0, 0.0, 0.0]  \n",
       "2  [0.0, 0.0, 0.0, 0.0, 0.0, 0.0, 0.0, 1.0]  \n",
       "3  [0.0, 1.0, 0.0, 0.0, 0.0, 0.0, 0.0, 0.0]  \n",
       "4  [0.0, 0.0, 0.0, 0.0, 0.0, 0.0, 0.0, 1.0]  "
      ]
     },
     "execution_count": 266,
     "metadata": {},
     "output_type": "execute_result"
    }
   ],
   "source": [
    "customers.head()"
   ]
  }
 ],
 "metadata": {
  "kernelspec": {
   "display_name": "Python 3",
   "language": "python",
   "name": "python3"
  },
  "language_info": {
   "codemirror_mode": {
    "name": "ipython",
    "version": 3
   },
   "file_extension": ".py",
   "mimetype": "text/x-python",
   "name": "python",
   "nbconvert_exporter": "python",
   "pygments_lexer": "ipython3",
   "version": "3.8.8"
  }
 },
 "nbformat": 4,
 "nbformat_minor": 5
}
